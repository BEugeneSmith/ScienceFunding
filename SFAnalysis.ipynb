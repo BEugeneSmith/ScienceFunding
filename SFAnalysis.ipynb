{
 "cells": [
  {
   "cell_type": "markdown",
   "metadata": {},
   "source": [
    "## Science Funding Analysis\n",
    "### notebook of descriptive stats"
   ]
  },
  {
   "cell_type": "code",
   "execution_count": null,
   "metadata": {
    "collapsed": false
   },
   "outputs": [],
   "source": [
    "#To see this notebook properly rendered go to \n",
    "#    http://nbviewer.ipython.org/github/BEugeneSmith7/ScienceFunding/blob/master/SFAnalysis.ipynb\n",
    "\n",
    "import descStats as ds\n",
    "import dataPlot as dp"
   ]
  },
  {
   "cell_type": "code",
   "execution_count": null,
   "metadata": {
    "collapsed": false
   },
   "outputs": [],
   "source": [
    "awardData = ds.dfProcessor(\"ReducedStateData/allAwards.csv\")\n",
    "plots = dp.dataPlots(awardData.freqTable,awardData.transDF)"
   ]
  },
  {
   "cell_type": "code",
   "execution_count": null,
   "metadata": {
    "collapsed": false,
    "scrolled": true
   },
   "outputs": [],
   "source": [
    "plots.stateBarPlot()"
   ]
  },
  {
   "cell_type": "markdown",
   "metadata": {},
   "source": [
    "###Figure 1, counts of awards for each state per term\n"
   ]
  },
  {
   "cell_type": "code",
   "execution_count": null,
   "metadata": {
    "collapsed": false
   },
   "outputs": [],
   "source": [
    "plots.heatmap()"
   ]
  },
  {
   "cell_type": "markdown",
   "metadata": {},
   "source": [
    "###Figure 2, Heatmap of counts for terms vs. states\n"
   ]
  },
  {
   "cell_type": "code",
   "execution_count": null,
   "metadata": {
    "collapsed": false
   },
   "outputs": [],
   "source": [
    "awardData2010 = ds.dfProcessor(\"ReducedStateData/awards2010.csv\")\n",
    "plots2010 = dp.dataPlots(awardData2010.freqTable,awardData2010.transDF)\n",
    "plots2010.heatmap()"
   ]
  },
  {
   "cell_type": "code",
   "execution_count": null,
   "metadata": {
    "collapsed": false
   },
   "outputs": [],
   "source": [
    "awardData2011 = ds.dfProcessor(\"ReducedStateData/awards2011.csv\")\n",
    "plots2011 = dp.dataPlots(awardData2011.freqTable,awardData2011.transDF)\n",
    "plots2011.heatmap()"
   ]
  },
  {
   "cell_type": "code",
   "execution_count": null,
   "metadata": {
    "collapsed": false
   },
   "outputs": [],
   "source": [
    "awardData2012 = ds.dfProcessor(\"ReducedStateData/awards2012.csv\")\n",
    "plots2012 = dp.dataPlots(awardData2012.freqTable,awardData2012.transDF)\n",
    "plots2012.heatmap()"
   ]
  },
  {
   "cell_type": "code",
   "execution_count": null,
   "metadata": {
    "collapsed": false
   },
   "outputs": [],
   "source": [
    "awardData2013 = ds.dfProcessor(\"ReducedStateData/awards2013.csv\")\n",
    "plots2013 = dp.dataPlots(awardData2013.freqTable,awardData2013.transDF)\n",
    "plots2013.heatmap()"
   ]
  },
  {
   "cell_type": "code",
   "execution_count": null,
   "metadata": {
    "collapsed": false
   },
   "outputs": [],
   "source": [
    "awardData2014 = ds.dfProcessor(\"ReducedStateData/awards2014.csv\")\n",
    "plots2014 = dp.dataPlots(awardData2014.freqTable,awardData2014.transDF)\n",
    "plots2014.heatmap()"
   ]
  },
  {
   "cell_type": "markdown",
   "metadata": {
    "collapsed": true
   },
   "source": [
    "2015, B. Eugene Smith"
   ]
  },
  {
   "cell_type": "code",
   "execution_count": null,
   "metadata": {
    "collapsed": true
   },
   "outputs": [],
   "source": []
  }
 ],
 "metadata": {
  "kernelspec": {
   "display_name": "Python 2",
   "language": "python",
   "name": "python2"
  },
  "language_info": {
   "codemirror_mode": {
    "name": "ipython",
    "version": 2
   },
   "file_extension": ".py",
   "mimetype": "text/x-python",
   "name": "python",
   "nbconvert_exporter": "python",
   "pygments_lexer": "ipython2",
   "version": "2.7.6"
  }
 },
 "nbformat": 4,
 "nbformat_minor": 0
}
